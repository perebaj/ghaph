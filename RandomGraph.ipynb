{
  "nbformat": 4,
  "nbformat_minor": 0,
  "metadata": {
    "colab": {
      "name": "RandomGraph.ipynb",
      "provenance": [],
      "collapsed_sections": [],
      "authorship_tag": "ABX9TyPG4rMks+ddm1Q3YnkrZwoS",
      "include_colab_link": true
    },
    "kernelspec": {
      "name": "python3",
      "display_name": "Python 3"
    }
  },
  "cells": [
    {
      "cell_type": "markdown",
      "metadata": {
        "id": "view-in-github",
        "colab_type": "text"
      },
      "source": [
        "<a href=\"https://colab.research.google.com/github/perebaj/ghaph/blob/master/RandomGraph.ipynb\" target=\"_parent\"><img src=\"https://colab.research.google.com/assets/colab-badge.svg\" alt=\"Open In Colab\"/></a>"
      ]
    },
    {
      "cell_type": "code",
      "metadata": {
        "id": "dPliJmgZ1Ir1",
        "colab_type": "code",
        "colab": {}
      },
      "source": [
        "import matplotlib.pyplot as plt\n",
        "import random\n",
        "import pandas as pd\n",
        "\n",
        "\n",
        "class Grafo:\n",
        "    matriz_Adj = []\n",
        "    def __init__(self, _num_Vertices, _prob, random=False, _orientado=False):\n",
        "        self.num_Vertices = _num_Vertices\n",
        "        self.orientado = _orientado\n",
        "        self.zeros_Matriz(self.num_Vertices)\n",
        "        if random:\n",
        "                self.random_Graph(_prob)\n",
        "        else:\n",
        "            pass\n",
        "    def zeros_Matriz(self, _num_Vertices):\n",
        "        \"\"\"\n",
        "        @Brief:     Inicializa a matriz de acordo com o número de vértices passados\n",
        "        @param:     {_num_Vertices} Números de vértices da matriz\n",
        "        \"\"\"\n",
        "        for _ in range(_num_Vertices):\n",
        "            linha = []\n",
        "            for _ in range(_num_Vertices):\n",
        "                linha.append(0)\n",
        "            self.matriz_Adj.append(linha)\n",
        "\n",
        "    def insert_Aresta(self, _start, _end):\n",
        "        \"\"\"\n",
        "        @Brief:     Iseri uma aresta na matriz de adjacência\n",
        "        @param:     {_start} Posição incial da aresta\n",
        "        @param:     {_end} Posição final da \n",
        "        \"\"\"\n",
        "        if _start == _end:\n",
        "            pass\n",
        "        else:\n",
        "            self.matriz_Adj[_start][_end] = 1\n",
        "            if not self.orientado:\n",
        "                self.matriz_Adj[_end][_start] = 1\n",
        "\n",
        "    def remove_Aresta(self, _start, _end):\n",
        "        \"\"\"\n",
        "        @Brief:     Remove uma aresta da matriz de adjacências\n",
        "        @param:     {_start} Posição inicial da remoção\n",
        "        @param:     {_end} Posição final da remoção\n",
        "        \"\"\"\n",
        "        self.matriz_Adj[_start][_end] = 0\n",
        "        if not self.orientado:\n",
        "            self.matriz_Adj[_end][_start] = 0\n",
        "\n",
        "    def print_MatrizAdj(self):\n",
        "        \"\"\"\n",
        "        @Brief:     Printa a matriz de adjacência\n",
        "        \"\"\"\n",
        "        for i in range(self.num_Vertices):\n",
        "            print(self.matriz_Adj[i])\n",
        "\n",
        "    def random_Graph(self, _prob):\n",
        "        \"\"\"\n",
        "        @Brief:     Gera um grafo aleatório\n",
        "        @param:     {_prob} Probabilidade de conexão entre nós\n",
        "        \"\"\"\n",
        "        for iterator1 in range(self.num_Vertices):\n",
        "            for iterator2 in range(self.num_Vertices):\n",
        "                if iterator1 < iterator2:\n",
        "                    randomNumber = random.random()\n",
        "                    # print(randomNumber)\n",
        "                    if randomNumber <= _prob:\n",
        "                        self.insert_Aresta(iterator1, iterator2)\n",
        "            \n",
        "    def sum_Matriz(self):\n",
        "        \"\"\"\n",
        "        @Brief:     Soma as linhas da matriz de adjacêcia, retornando um vetor com o grau de cada nó\n",
        "        \"\"\"\n",
        "        array = [0]*self.num_Vertices\n",
        "        for iterator1 in range(self.num_Vertices):\n",
        "            for iterator2 in range(self.num_Vertices):\n",
        "                if self.matriz_Adj[iterator1][iterator2] == 1:\n",
        "                    array[iterator1] += 1\n",
        "        return array"
      ],
      "execution_count": 0,
      "outputs": []
    },
    {
      "cell_type": "markdown",
      "metadata": {
        "id": "Q4UBKeJQYuC1",
        "colab_type": "text"
      },
      "source": [
        "#Grafo de menor dimensão\n",
        "\n",
        "Gerando um grafo de menor dimensão é possivel notar o comportarmento do histograma com maior facilidade.\n",
        "\n",
        "O eixo x, representa os graus do grafo. No primeiro exemplo, variam de 2 até 6\n",
        "\n",
        "O eixo y, representa a frequência com que o grau aparece, formando assim um gráfico de barras"
      ]
    },
    {
      "cell_type": "code",
      "metadata": {
        "id": "w56Xy3f-e6GR",
        "colab_type": "code",
        "outputId": "2bca43e2-540c-49d7-82fc-88068c1d2eeb",
        "colab": {
          "base_uri": "https://localhost:8080/",
          "height": 312
        }
      },
      "source": [
        "g1 = Grafo(10, 0.3, random=True)\n",
        "g1.sum_Matriz()\n",
        "\n",
        "array = g1.sum_Matriz()\n",
        "print(array)\n",
        "plt.xlabel(\"Grau\")\n",
        "plt.ylabel(\"Frequência\")\n",
        "plt.title(\"Distribuição de Graus\")\n",
        "\n",
        "plt.hist(array, 50,density=True, facecolor='g', alpha=0.75)\n",
        "plt.grid(True)\n",
        "plt.show()"
      ],
      "execution_count": 0,
      "outputs": [
        {
          "output_type": "stream",
          "text": [
            "[6, 7, 3, 4, 3, 6, 5, 3, 4, 5]\n"
          ],
          "name": "stdout"
        },
        {
          "output_type": "display_data",
          "data": {
            "image/png": "[encoded data removed]",
            "text/plain": [
              "<Figure size 432x288 with 1 Axes>"
            ]
          },
          "metadata": {
            "tags": []
          }
        }
      ]
    },
    {
      "cell_type": "markdown",
      "metadata": {
        "id": "NUjjx737aDPA",
        "colab_type": "text"
      },
      "source": [
        "# Para número de vértices, N, grandes:\n",
        "\n",
        "Em probabilidade e estatística, a distribuição normal é uma das distribuições de probabilidade mais utilizadas para modelar fenômenos naturais. Isso se deve ao fato de que um grande número de fenômenos naturais apresenta sua distribuição de probabilidade tão proximamente normal, que a ela pode ser com sucesso referida, e, portanto, com adequado acerto por ela representada como se normal fosse.\n",
        "\n",
        "![alt text](https://upload.wikimedia.org/wikipedia/commons/thumb/7/74/Normal_Distribution_PDF.svg/290px-Normal_Distribution_PDF.svg.png)\n"
      ]
    },
    {
      "cell_type": "code",
      "metadata": {
        "id": "jYx2HAv9bG08",
        "colab_type": "code",
        "outputId": "06ad9369-e162-4f0d-f626-be4d2809f09f",
        "colab": {
          "base_uri": "https://localhost:8080/",
          "height": 332
        }
      },
      "source": [
        "g2 = Grafo(100, 0.3, random=True)\n",
        "g2.sum_Matriz()\n",
        "\n",
        "array2 = g2.sum_Matriz()\n",
        "print(array2)\n",
        "plt.xlabel(\"Grau\")\n",
        "plt.ylabel(\"Frequência\")\n",
        "plt.title(\"Distribuição de Graus\")\n",
        "\n",
        "plt.hist(array2, 50,density=True, facecolor='g', alpha=0.75)\n",
        "plt.grid(True)\n",
        "plt.show()"
      ],
      "execution_count": 0,
      "outputs": [
        {
          "output_type": "stream",
          "text": [
            "[31, 31, 26, 32, 25, 23, 35, 25, 22, 24, 29, 28, 29, 35, 33, 26, 32, 27, 28, 28, 32, 25, 30, 29, 30, 28, 30, 34, 30, 29, 27, 24, 22, 26, 30, 28, 28, 28, 29, 25, 40, 23, 31, 32, 22, 33, 22, 27, 23, 22, 29, 24, 34, 31, 31, 32, 31, 29, 23, 37, 27, 32, 17, 27, 30, 34, 25, 30, 30, 33, 40, 31, 26, 29, 31, 29, 36, 26, 30, 25, 31, 29, 32, 29, 28, 22, 28, 37, 29, 32, 22, 26, 27, 33, 31, 29, 33, 32, 24, 25]\n"
          ],
          "name": "stdout"
        },
        {
          "output_type": "display_data",
          "data": {
            "image/png": "[encoded data removed]",
            "text/plain": [
              "<Figure size 432x288 with 1 Axes>"
            ]
          },
          "metadata": {
            "tags": []
          }
        }
      ]
    },
    {
      "cell_type": "code",
      "metadata": {
        "id": "SnpYFaAPcLNb",
        "colab_type": "code",
        "outputId": "1529a0ca-fb70-4ea0-8648-44956670e5f2",
        "colab": {
          "base_uri": "https://localhost:8080/",
          "height": 349
        }
      },
      "source": [
        "import statistics\n",
        "g3 = Grafo(1000, 0.3, random=True)\n",
        "# g3.print_MatrizAdj()\n",
        "g3.sum_Matriz()\n",
        "array3 = g3.sum_Matriz()\n",
        "print(statistics.mean(array3))\n",
        "print(array3)\n",
        "\n",
        "plt.xlabel(\"Grau\")\n",
        "plt.ylabel(\"Frequência\")\n",
        "plt.title(\"Distribuição de Graus\")\n",
        "\n",
        "plt.hist(array3, 50,density=True, facecolor='g', alpha=0.75)\n",
        "plt.grid(True)\n",
        "plt.show()"
      ],
      "execution_count": 0,
      "outputs": [
        {
          "output_type": "stream",
          "text": [
            "941.392\n",
            "[943, 921, 927, 939, 950, 955, 947, 939, 954, 955, 928, 936, 949, 942, 941, 955, 934, 939, 936, 939, 932, 944, 936, 942, 949, 941, 948, 941, 934, 935, 948, 941, 936, 944, 943, 960, 941, 940, 936, 939, 947, 948, 944, 945, 926, 952, 939, 933, 945, 945, 949, 947, 949, 943, 942, 932, 952, 932, 941, 934, 943, 934, 945, 954, 938, 938, 952, 943, 949, 941, 944, 952, 937, 941, 932, 935, 936, 936, 948, 938, 943, 950, 951, 936, 939, 949, 940, 941, 952, 939, 939, 944, 930, 938, 948, 927, 950, 940, 936, 946, 945, 958, 956, 948, 952, 924, 949, 945, 945, 941, 938, 952, 950, 940, 935, 944, 945, 934, 923, 940, 943, 945, 941, 941, 938, 933, 942, 931, 952, 940, 940, 932, 951, 948, 932, 944, 937, 941, 938, 934, 948, 938, 941, 946, 941, 944, 946, 941, 938, 943, 948, 929, 934, 933, 958, 940, 927, 938, 944, 933, 942, 948, 932, 930, 938, 937, 946, 936, 910, 934, 947, 946, 946, 936, 936, 952, 940, 933, 941, 943, 945, 944, 934, 949, 940, 945, 951, 929, 941, 943, 940, 941, 940, 935, 931, 959, 937, 942, 937, 952, 952, 934, 937, 942, 946, 949, 919, 940, 934, 932, 938, 944, 956, 949, 943, 954, 945, 946, 944, 944, 944, 948, 943, 941, 940, 951, 940, 939, 950, 947, 940, 931, 945, 945, 942, 939, 939, 939, 944, 961, 946, 940, 937, 951, 943, 924, 938, 941, 946, 939, 946, 951, 942, 935, 947, 935, 951, 958, 939, 949, 938, 944, 941, 953, 926, 941, 939, 949, 939, 948, 940, 950, 953, 933, 945, 936, 946, 944, 948, 919, 942, 945, 946, 944, 954, 939, 950, 920, 948, 942, 931, 941, 946, 951, 938, 940, 952, 935, 944, 933, 935, 934, 950, 946, 940, 933, 946, 945, 930, 941, 946, 946, 932, 937, 947, 927, 939, 937, 955, 935, 926, 939, 954, 944, 936, 950, 939, 938, 941, 941, 937, 934, 920, 938, 931, 941, 934, 942, 950, 956, 939, 932, 942, 942, 943, 952, 931, 943, 939, 953, 943, 932, 946, 959, 946, 944, 936, 949, 937, 928, 931, 941, 932, 944, 933, 939, 926, 938, 944, 948, 933, 921, 940, 934, 952, 938, 942, 950, 940, 940, 928, 941, 935, 941, 947, 940, 935, 954, 942, 941, 946, 949, 941, 924, 948, 942, 934, 938, 946, 947, 949, 937, 936, 946, 938, 944, 942, 934, 934, 946, 946, 944, 955, 947, 940, 942, 948, 937, 931, 945, 938, 932, 934, 930, 943, 944, 941, 958, 947, 947, 946, 935, 933, 947, 943, 939, 936, 936, 951, 948, 942, 937, 938, 947, 934, 936, 944, 941, 944, 952, 945, 943, 932, 929, 938, 940, 957, 918, 940, 951, 939, 936, 955, 951, 945, 939, 940, 940, 934, 949, 950, 954, 935, 926, 940, 942, 943, 936, 947, 946, 932, 955, 952, 947, 941, 944, 935, 940, 934, 924, 932, 945, 942, 947, 952, 931, 947, 933, 933, 949, 934, 952, 933, 937, 945, 945, 924, 937, 941, 940, 949, 943, 950, 941, 941, 941, 943, 942, 938, 946, 926, 948, 949, 934, 944, 936, 937, 941, 926, 945, 936, 940, 936, 938, 939, 939, 927, 935, 950, 955, 941, 939, 941, 933, 936, 940, 948, 940, 947, 949, 937, 945, 932, 940, 935, 942, 944, 948, 946, 945, 940, 947, 936, 943, 951, 950, 949, 936, 939, 950, 945, 934, 923, 943, 943, 935, 950, 942, 952, 945, 951, 945, 950, 943, 938, 941, 944, 934, 948, 935, 953, 945, 956, 946, 930, 937, 945, 930, 949, 929, 935, 933, 946, 936, 937, 936, 944, 939, 945, 949, 945, 933, 933, 949, 944, 948, 942, 935, 950, 944, 948, 937, 938, 928, 935, 949, 940, 947, 947, 947, 952, 931, 936, 952, 937, 948, 951, 944, 956, 935, 946, 939, 928, 940, 946, 945, 942, 933, 944, 938, 935, 952, 940, 935, 940, 944, 939, 932, 935, 932, 936, 957, 937, 935, 949, 940, 934, 943, 945, 944, 941, 941, 923, 947, 936, 939, 929, 954, 934, 941, 943, 927, 955, 951, 941, 946, 928, 950, 943, 944, 944, 933, 942, 939, 946, 946, 946, 941, 945, 932, 949, 942, 943, 932, 944, 927, 942, 939, 941, 934, 933, 943, 939, 956, 945, 941, 947, 941, 927, 940, 952, 941, 930, 940, 949, 935, 944, 955, 952, 939, 936, 925, 942, 938, 952, 947, 945, 936, 947, 942, 943, 927, 933, 952, 936, 952, 945, 946, 939, 951, 935, 929, 944, 941, 946, 933, 958, 942, 938, 939, 936, 931, 946, 914, 952, 937, 940, 932, 941, 935, 952, 937, 931, 934, 946, 940, 940, 942, 943, 928, 935, 950, 947, 944, 938, 947, 951, 950, 953, 934, 957, 942, 927, 937, 923, 951, 943, 937, 951, 933, 941, 942, 946, 946, 939, 951, 949, 940, 939, 941, 946, 945, 946, 926, 947, 942, 944, 956, 952, 934, 949, 949, 952, 932, 934, 943, 941, 949, 947, 948, 953, 925, 943, 943, 940, 942, 952, 945, 953, 941, 941, 932, 944, 947, 940, 936, 943, 944, 943, 941, 938, 935, 935, 935, 944, 935, 933, 936, 938, 937, 953, 940, 937, 936, 943, 946, 932, 950, 945, 941, 942, 949, 936, 941, 935, 933, 939, 942, 945, 934, 938, 943, 946, 945, 950, 952, 942, 938, 942, 943, 937, 927, 936, 954, 953, 943, 957, 942, 936, 935, 951, 940, 943, 942, 931, 941, 938, 947, 955, 941, 937, 941, 947, 946, 944, 957, 942, 948, 933, 939, 949, 949, 943, 946, 955, 938, 949, 941, 937, 924, 950, 944, 926, 936, 946, 928, 936, 931, 960, 941, 940, 935, 939, 954, 949, 937, 943, 948, 945, 943, 955, 933, 925, 947, 945, 939, 944, 947, 941, 931, 945, 949, 932, 936, 939, 934, 942, 945, 953, 938, 936, 945, 937, 938, 946, 934, 944, 941, 953, 946, 931, 937, 933, 951, 949, 932, 940, 941, 936, 947, 935, 947, 943, 953, 941, 941, 940, 953, 935, 938]\n"
          ],
          "name": "stdout"
        },
        {
          "output_type": "display_data",
          "data": {
            "image/png": "[encoded data removed]",
            "text/plain": [
              "<Figure size 432x288 with 1 Axes>"
            ]
          },
          "metadata": {
            "tags": []
          }
        }
      ]
    }
  ]
}